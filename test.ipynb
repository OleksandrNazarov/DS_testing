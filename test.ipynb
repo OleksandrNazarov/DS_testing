{
 "cells": [
  {
   "cell_type": "code",
   "execution_count": 1,
   "metadata": {},
   "outputs": [
    {
     "name": "stdout",
     "output_type": "stream",
     "text": [
      "Давайте познайомимося!\n",
      "Доброго дня, !\n"
     ]
    }
   ],
   "source": [
    "# Виводиться повідомлення\n",
    "print(\"Давайте познайомимося!\")\n",
    "\n",
    "# Зчитуємо введене користувачем значення.\n",
    "# Результат записується у змінну name\n",
    "name=input(\"Як Вас звати? \")\n",
    "# Виводиться нове повідомлення\n",
    "print(\"Доброго дня,\",name+\"!\")"
   ]
  },
  {
   "cell_type": "code",
   "execution_count": 28,
   "metadata": {},
   "outputs": [
    {
     "name": "stdout",
     "output_type": "stream",
     "text": [
      "\n"
     ]
    }
   ],
   "source": [
    "x=open(\"/mnt/chromeos/MyFiles/Downloads/text.txt\",\"r+\")\n",
    "z=[]\n",
    "z.extend(x.readlines())\n",
    "x.close()\n",
    "z.pop(4)\n",
    "y=open(\"/mnt/chromeos/MyFiles/Downloads/text_new.txt\",\"w+\")\n",
    "for i in range(0,len(z)):\n",
    "    y.write(z[i])\n",
    "print(y.read())\n",
    "y.close()\n",
    "#write with open(\"file adress\", \"mode(r,w,a\") as text:\n",
    "    #some expression \n"
   ]
  },
  {
   "cell_type": "code",
   "execution_count": 33,
   "metadata": {},
   "outputs": [
    {
     "name": "stdout",
     "output_type": "stream",
     "text": [
      "The first name is:dsfjk\n",
      "The second name is:lknlk\n",
      "The third name is:kjlkjlk\n"
     ]
    }
   ],
   "source": [
    "names=input(\"Write 3 names, separated by spaces\")\n",
    "names=names.split()\n",
    "print(\"The first name is:\", names[0], \"\\n\",\n",
    "\"The second name is:\", names[1], \"\\n\",\n",
    "\"The third name is:\", names[2], sep=\"\"\n",
    ")"
   ]
  },
  {
   "cell_type": "code",
   "execution_count": 44,
   "metadata": {},
   "outputs": [
    {
     "data": {
      "text/plain": [
       "'I have 1000 dollars so I can buy 3 football for 450.00 dollars.'"
      ]
     },
     "execution_count": 44,
     "metadata": {},
     "output_type": "execute_result"
    }
   ],
   "source": [
    "totalMoney = 1000\n",
    "quantity = 3\n",
    "price = 450\n",
    "text=\"I have {a} dollars so I can buy {b} football for {c:.2f} dollars.\"\n",
    "text.format(a=totalMoney, b=quantity, c=price)\n",
    "# f string example"
   ]
  },
  {
   "cell_type": "code",
   "execution_count": 15,
   "metadata": {},
   "outputs": [
    {
     "data": {
      "text/plain": [
       "False"
      ]
     },
     "execution_count": 15,
     "metadata": {},
     "output_type": "execute_result"
    }
   ],
   "source": [
    "x = [10, 20, 30, 40, 10]\n",
    "y = [75, 65, 35, 75, 30]\n",
    "\n",
    "def lcheck(lists):\n",
    "    lists=list(lists)\n",
    "    return lists[0]==lists[len(lists)-1]\n",
    "\n",
    "lcheck(y)\n"
   ]
  },
  {
   "cell_type": "code",
   "execution_count": 3,
   "metadata": {},
   "outputs": [
    {
     "data": {
      "text/plain": [
       "3.141592653589793"
      ]
     },
     "execution_count": 3,
     "metadata": {},
     "output_type": "execute_result"
    }
   ],
   "source": [
    "def search_str(file_path, word):\n",
    "    with open(file_path, 'r') as file:\n",
    "        # read all content of a file\n",
    "        content = file.read()\n",
    "        # check if string present in a file\n",
    "        if word in content:\n",
    "            print('string exist in a file')\n",
    "        else:\n",
    "            print('string does not exist in a file')\n",
    "\n",
    "search_str(r'E:\\demos\\files_demos\\account\\sales.txt', 'laptop')\n",
    "\n",
    "with open(r\"E:\\demos\\files_demos\\account\\sales.txt\", 'r') as fp:\n",
    "    for l_no, line in enumerate(fp):\n",
    "        # search string\n",
    "        if 'laptop' in line:\n",
    "            print('string found in a file')\n",
    "            print('Line Number:', l_no)\n",
    "            print('Line:', line)\n",
    "            # don't look for next lines\n",
    "            break"
   ]
  },
  {
   "cell_type": "code",
   "execution_count": 13,
   "metadata": {},
   "outputs": [
    {
     "name": "stdout",
     "output_type": "stream",
     "text": [
      "['line1 \\n', 'line2 \\n', 'line3 \\n', 'line4 \\n', 'line6 \\n', 'line7 ']\n"
     ]
    },
    {
     "ename": "ValueError",
     "evalue": "invalid literal for int() with base 10: 'line1 \\n'",
     "output_type": "error",
     "traceback": [
      "\u001b[0;31m---------------------------------------------------------------------------\u001b[0m",
      "\u001b[0;31mValueError\u001b[0m                                Traceback (most recent call last)",
      "\u001b[1;32m/mnt/chromeos/removable/F/DS_testing/test.ipynb Cell 5'\u001b[0m in \u001b[0;36m<cell line: 12>\u001b[0;34m()\u001b[0m\n\u001b[1;32m     <a href='vscode-notebook-cell:/mnt/chromeos/removable/F/DS_testing/test.ipynb#ch0000004?line=11'>12</a>\u001b[0m \u001b[39mwith\u001b[39;00m \u001b[39mopen\u001b[39m(\u001b[39m\"\u001b[39m\u001b[39m/mnt/chromeos/MyFiles/Downloads/text_new.txt\u001b[39m\u001b[39m\"\u001b[39m,\u001b[39m\"\u001b[39m\u001b[39mw\u001b[39m\u001b[39m\"\u001b[39m) \u001b[39mas\u001b[39;00m an:\n\u001b[1;32m     <a href='vscode-notebook-cell:/mnt/chromeos/removable/F/DS_testing/test.ipynb#ch0000004?line=12'>13</a>\u001b[0m     \u001b[39mfor\u001b[39;00m i \u001b[39min\u001b[39;00m new:\n\u001b[0;32m---> <a href='vscode-notebook-cell:/mnt/chromeos/removable/F/DS_testing/test.ipynb#ch0000004?line=13'>14</a>\u001b[0m         an\u001b[39m.\u001b[39mwrite((new[\u001b[39mint\u001b[39;49m(i)]))\n",
      "\u001b[0;31mValueError\u001b[0m: invalid literal for int() with base 10: 'line1 \\n'"
     ]
    }
   ],
   "source": [
    "\n",
    "#with open(\"/mnt/chromeos/MyFiles/Downloads/text.txt\",\"w\") as textf:\n",
    "    #textf.write(\"line1 \\nline2 \\nline3 \\nline4 \\nline5 \\nline6 \\nline7 \")\n",
    "new=[]\n",
    "with open(\"/mnt/chromeos/MyFiles/Downloads/text.txt\",\"r\") as af:\n",
    "    for num,line in enumerate(af):\n",
    "        if line != \"line5 \\n\":\n",
    "            new.append(line)\n",
    "        else:\n",
    "            continue\n",
    "print(new)\n",
    "\n",
    "with open(\"/mnt/chromeos/MyFiles/Downloads/text_new.txt\",\"w\") as an:\n",
    "    for i in new:\n",
    "        an.write((new[int(i)]))"
   ]
  },
  {
   "cell_type": "code",
   "execution_count": 3,
   "metadata": {},
   "outputs": [
    {
     "name": "stdout",
     "output_type": "stream",
     "text": [
      "Prime numbers between 25 and 50 are:\n",
      "29\n",
      "31\n",
      "37\n",
      "41\n",
      "43\n",
      "47\n"
     ]
    }
   ],
   "source": [
    "start = 25\n",
    "end = 50\n",
    "print(\"Prime numbers between\", start, \"and\", end, \"are:\")\n",
    "\n",
    "for num in range(start, end + 1):\n",
    "    # all prime numbers are greater than 1\n",
    "    # if number is less than or equal to 1, it is not prime\n",
    "    if num > 1:\n",
    "        for i in range(2, num):\n",
    "            # check for factors\n",
    "            if (num % i) == 0:\n",
    "                # not a prime number so break inner loop and\n",
    "                # look for next number\n",
    "                break\n",
    "        else:\n",
    "            print(num)"
   ]
  },
  {
   "cell_type": "code",
   "execution_count": 11,
   "metadata": {},
   "outputs": [
    {
     "name": "stdout",
     "output_type": "stream",
     "text": [
      "Fibonacci series of 10 numbers\n",
      "0 1 1 2 3 5 8 13 21 34 "
     ]
    }
   ],
   "source": [
    "print(\"Fibonacci series of 10 numbers\")\n",
    "num1=0\n",
    "num2=1\n",
    "\n",
    "for num in range(0,10,1):\n",
    "    print(num1,end=\" \")\n",
    "    res=num1+num2\n",
    "    num1=num2\n",
    "    num2=res"
   ]
  },
  {
   "cell_type": "code",
   "execution_count": null,
   "metadata": {},
   "outputs": [
    {
     "name": "stdout",
     "output_type": "stream",
     "text": [
      "you can enter\n",
      "move on\n"
     ]
    }
   ],
   "source": [
    "age=input(\"how old are you? \") \n",
    "age=int(age)\n",
    "if age>18:\n",
    "    print(\"you can enter\")\n",
    "elif age==18:\n",
    "    print(\"you can attempt Pink Floyd\")\n",
    "else:\n",
    "    print(\"go see Meat-loaf\")\n",
    "print(\"move on\")"
   ]
  },
  {
   "cell_type": "code",
   "execution_count": null,
   "metadata": {},
   "outputs": [
    {
     "name": "stdout",
     "output_type": "stream",
     "text": [
      "1993\n"
     ]
    }
   ],
   "source": [
    "album_release_year = 1993\n",
    "if album_release_year<1980:\n",
    "    print(\"This album came long time ago\")\n",
    "elif album_release_year==1991 or album_release_year==1993:\n",
    "          print(album_release_year)"
   ]
  },
  {
   "cell_type": "code",
   "execution_count": 2,
   "metadata": {},
   "outputs": [
    {
     "name": "stdout",
     "output_type": "stream",
     "text": [
      "0 A\n",
      "1 B\n",
      "2 C\n"
     ]
    }
   ],
   "source": [
    "for x,i in enumerate(['A','B','C']):\n",
    "    \n",
    "    print(x,i)"
   ]
  },
  {
   "cell_type": "code",
   "execution_count": null,
   "metadata": {},
   "outputs": [
    {
     "name": "stdout",
     "output_type": "stream",
     "text": [
      "1982\n",
      "1980\n"
     ]
    }
   ],
   "source": [
    "# For loop example\n",
    "\n",
    "dates = [1982,1980,1973]\n",
    "N = len(dates)\n",
    "\n",
    "for i in range(0,2):\n",
    "      print(dates[i]) "
   ]
  },
  {
   "cell_type": "code",
   "execution_count": null,
   "metadata": {},
   "outputs": [
    {
     "name": "stdout",
     "output_type": "stream",
     "text": [
      "Before square  0 is red\n",
      "After square  0 is white\n",
      "Before square  1 is yellow\n",
      "After square  1 is white\n",
      "Before square  2 is green\n",
      "After square  2 is white\n",
      "Before square  3 is purple\n",
      "After square  3 is white\n",
      "Before square  4 is blue\n",
      "After square  4 is white\n"
     ]
    }
   ],
   "source": [
    "# Use for loop to change the elements in list\n",
    "\n",
    "squares = ['red', 'yellow', 'green', 'purple', 'blue']\n",
    "\n",
    "for i in range(0, 5):\n",
    "    print(\"Before square \", i, 'is',  squares[i])\n",
    "    squares[i] = 'white'\n",
    "    print(\"After square \", i, 'is',  squares[i])"
   ]
  },
  {
   "cell_type": "code",
   "execution_count": 13,
   "metadata": {},
   "outputs": [
    {
     "name": "stdout",
     "output_type": "stream",
     "text": [
      "At the start  0 was red\n",
      "But now  0 is Black\n",
      "At the start  1 was yellow\n",
      "But now  1 is Black\n",
      "At the start  2 was green\n",
      "But now  2 is Black\n",
      "At the start  3 was purple\n",
      "But now  3 is Black\n",
      "At the start  4 was blue\n",
      "But now  4 is Black\n"
     ]
    }
   ],
   "source": [
    "squares = ['red', 'yellow', 'green', 'purple', 'blue']\n",
    "#должен быть указан начало и конец для for loop \n",
    "for x in range(len(squares)):\n",
    "    print(\"At the start \", x, \"was\", squares[x])\n",
    "    squares[x]=\"Black\"\n",
    "    print(\"But now \",x,\"is\", squares[x])"
   ]
  },
  {
   "cell_type": "code",
   "execution_count": null,
   "metadata": {},
   "outputs": [
    {
     "name": "stdout",
     "output_type": "stream",
     "text": [
      "1982\n",
      "1980\n",
      "It took  2 repetitions to get out of loop.\n"
     ]
    }
   ],
   "source": [
    "#Let’s say we would like to iterate through list \n",
    "# dates and stop at the year 1973, then print out the number of iterations.\n",
    "# This can be done with the following block of code:\n",
    "# While Loop Example\n",
    "\n",
    "dates = [1982, 1980, 1973, 2000]\n",
    "\n",
    "i = 0\n",
    "year = dates[0]\n",
    "\n",
    "while(year != 1973):    \n",
    "    print(year)\n",
    "    i = i + 1\n",
    "    year = dates[i]\n",
    "    \n",
    "\n",
    "print(\"It took \", i ,\"repetitions to get out of loop.\")"
   ]
  },
  {
   "cell_type": "code",
   "execution_count": 14,
   "metadata": {},
   "outputs": [
    {
     "name": "stdout",
     "output_type": "stream",
     "text": [
      "10\n",
      "9.5\n",
      "10\n",
      "8\n",
      "7.5\n",
      "5\n"
     ]
    }
   ],
   "source": [
    "PlayListRatings = [10, 9.5, 10, 8, 7.5, 5, 10, 10]\n",
    "i = 0\n",
    "Rating = PlayListRatings[0]\n",
    "while(i < len(PlayListRatings) and Rating >= 6):\n",
    "    Rating = PlayListRatings[i]\n",
    "    print(Rating)\n",
    "    i = i + 1"
   ]
  },
  {
   "cell_type": "code",
   "execution_count": 18,
   "metadata": {},
   "outputs": [
    {
     "name": "stdout",
     "output_type": "stream",
     "text": [
      "['orange', 'orange']\n"
     ]
    }
   ],
   "source": [
    "squares = ['orange', 'orange', 'purple', 'blue ', 'orange']\n",
    "new_squares = []\n",
    "i = 0\n",
    "while(i < len(squares) and squares[i] == 'orange'):\n",
    "    new_squares.append(squares[i])\n",
    "    i = i + 1\n",
    "print (new_squares)"
   ]
  },
  {
   "cell_type": "code",
   "execution_count": null,
   "metadata": {},
   "outputs": [],
   "source": [
    "# Імпорт частини модуля \n",
    "# from модуль import * - ввсі елементи модуля\n",
    "from math import pi"
   ]
  },
  {
   "cell_type": "code",
   "execution_count": null,
   "metadata": {},
   "outputs": [
    {
     "name": "stdout",
     "output_type": "stream",
     "text": [
      "First number 50 is bigger than the second -  10\n"
     ]
    }
   ],
   "source": [
    "first_number=int(input(\"Input the first number here \"))\n",
    "second_number=int(input(\"Input the second number here \"))\n",
    "if first_number>second_number:\n",
    "    print(\"First number\", first_number, \"is bigger than the second - \", second_number)\n",
    "elif first_number == second_number:\n",
    "    print(\"numbers are equal\")\n",
    "else:\n",
    "     print(\"First number\", first_number, \"is lesser than the second - \", second_number)\n"
   ]
  },
  {
   "cell_type": "code",
   "execution_count": null,
   "metadata": {},
   "outputs": [
    {
     "name": "stdout",
     "output_type": "stream",
     "text": [
      "1+2+...+100 = 5050\n"
     ]
    }
   ],
   "source": [
    "\n",
    "n=100 # Кількість доданків\n",
    "# Формуємо текст для відображення результату\n",
    "text=\"1+2+...+\"+str(n)+\" =\"\n",
    "# Ітераційна змінна для оператора циклу\n",
    "i=1\n",
    "# Змінна для запису суми\n",
    "s=0\n",
    "# Оператор циклу для обчислення суми\n",
    "while i<=n:\n",
    " # Додаємо доданок до суми\n",
    " s=s+i\n",
    " # Змінюємо ітераційну змінну\n",
    " i=i+1\n",
    "# Відображуємо результат\n",
    "print(text,s)"
   ]
  },
  {
   "cell_type": "code",
   "execution_count": null,
   "metadata": {},
   "outputs": [],
   "source": [
    "def printDictionary(**args):\n",
    "    for key in args:\n",
    "        print(key + \" : \" + args[key])\n",
    "\n",
    "printDictionary(Country='Canada',Province='Ontario',City='Toronto')\n",
    "    "
   ]
  },
  {
   "cell_type": "code",
   "execution_count": 30,
   "metadata": {},
   "outputs": [],
   "source": [
    "import matplotlib.pyplot as plt\n",
    "\n"
   ]
  },
  {
   "cell_type": "code",
   "execution_count": 31,
   "metadata": {},
   "outputs": [],
   "source": [
    "# Create a class Circle\n",
    "\n",
    "class Circle(object):\n",
    "    \n",
    "    # Constructor\n",
    "    def __init__(self, radius=3, color='blue'):\n",
    "        self.radius = radius\n",
    "        self.color = color \n",
    "    \n",
    "    # Method\n",
    "    def add_radius(self, r):\n",
    "        self.radius = self.radius + r\n",
    "        return(self.radius)\n",
    "    \n",
    "    # Method + позначки вектори \n",
    "    def drawCircle(self):\n",
    "        plt.gca().add_patch(plt.Circle((0, 0), radius=self.radius, fc=self.color))\n",
    "        plt.axis('scaled')\n",
    "        plt.show()  "
   ]
  },
  {
   "cell_type": "code",
   "execution_count": 35,
   "metadata": {},
   "outputs": [
    {
     "data": {
      "text/plain": [
       "<bound method Circle.drawCircle of <__main__.Circle object at 0x0000016223D07D90>>"
      ]
     },
     "execution_count": 35,
     "metadata": {},
     "output_type": "execute_result"
    }
   ],
   "source": [
    "redcircle=Circle(1,\"blue\")\n",
    "redcircle.drawCircle"
   ]
  },
  {
   "cell_type": "code",
   "execution_count": 27,
   "metadata": {},
   "outputs": [],
   "source": [
    "# Create a new Rectangle class for creating a rectangle object\n",
    "\n",
    "class Rectangle(object):\n",
    "    \n",
    "    # Constructor\n",
    "    def __init__(self, width=2, height=3, color='r'):\n",
    "        self.height = height \n",
    "        self.width = width\n",
    "        self.color = color\n",
    "    \n",
    "    # Method\n",
    "    def drawRectangle(self):\n",
    "        plt.gca().add_patch(plt.Rectangle((0, 0), self.width, self.height ,fc=self.color))\n",
    "        plt.axis('scaled')\n",
    "        plt.show()"
   ]
  },
  {
   "cell_type": "code",
   "execution_count": 57,
   "metadata": {},
   "outputs": [
    {
     "data": {
      "text/plain": [
       "dict"
      ]
     },
     "execution_count": 57,
     "metadata": {},
     "output_type": "execute_result"
    }
   ],
   "source": [
    "B={}\n",
    "type(B)"
   ]
  },
  {
   "cell_type": "code",
   "execution_count": 1,
   "metadata": {},
   "outputs": [],
   "source": [
    "#class creation and function creation. String manipulation, text clearing binning\n",
    "\n",
    "class analysedText(object):\n",
    "    \n",
    "    def __init__ (self, text):\n",
    "        # remove punctuation\n",
    "        formattedText = text.replace('.','').replace('!','').replace('?','').replace(',','')\n",
    "        \n",
    "        # make text lowercase\n",
    "        formattedText = formattedText.lower()\n",
    "        \n",
    "        self.fmtText = formattedText\n",
    "        \n",
    "    def freqAll(self):        \n",
    "        # split text into words\n",
    "        wordList = self.fmtText.split(' ')\n",
    "        \n",
    "        # Create dictionary\n",
    "        freqMap = {}\n",
    "        for word in set(wordList): # use set to remove duplicates in list\n",
    "            freqMap[word] = wordList.count(word)\n",
    "        \n",
    "        return freqMap\n",
    "    \n",
    "    def freqOf(self,word):\n",
    "        # get frequency map\n",
    "        freqDict = self.freqAll()\n",
    "        \n",
    "        if word in freqDict:\n",
    "            return freqDict[word]\n",
    "        else:\n",
    "            return 0"
   ]
  },
  {
   "cell_type": "code",
   "execution_count": 2,
   "metadata": {},
   "outputs": [
    {
     "name": "stdout",
     "output_type": "stream",
     "text": [
      "Constructor: \n",
      "Test Passed\n",
      "freqAll: \n",
      "Test Passed\n",
      "freqOf: \n",
      "Test Passed\n"
     ]
    }
   ],
   "source": [
    "# unit testing example\n",
    "\n",
    "import sys\n",
    "\n",
    "sampleMap = {'eirmod': 1,'sed': 1, 'amet': 2, 'diam': 5, 'consetetur': 1, 'labore': 1, 'tempor': 1, 'dolor': 1, 'magna': 2, 'et': 3, 'nonumy': 1, 'ipsum': 1, 'lorem': 2}\n",
    "\n",
    "def testMsg(passed):\n",
    "    if passed:\n",
    "       return 'Test Passed'\n",
    "    else :\n",
    "       return 'Test Failed'\n",
    "\n",
    "print(\"Constructor: \")\n",
    "try:\n",
    "    samplePassage = analysedText(\"Lorem ipsum dolor! diam amet, consetetur Lorem magna. sed diam nonumy eirmod tempor. diam et labore? et diam magna. et diam amet.\")\n",
    "    print(testMsg(samplePassage.fmtText == \"lorem ipsum dolor diam amet consetetur lorem magna sed diam nonumy eirmod tempor diam et labore et diam magna et diam amet\"))\n",
    "except:\n",
    "    print(\"Error detected. Recheck your function \" )\n",
    "print(\"freqAll: \")\n",
    "try:\n",
    "    wordMap = samplePassage.freqAll()\n",
    "    print(testMsg(wordMap==sampleMap))\n",
    "except:\n",
    "    print(\"Error detected. Recheck your function \" )\n",
    "print(\"freqOf: \")\n",
    "try:\n",
    "    passed = True\n",
    "    for word in sampleMap:\n",
    "        if samplePassage.freqOf(word) != sampleMap[word]:\n",
    "            passed = False\n",
    "            break\n",
    "    print(testMsg(passed))\n",
    "    \n",
    "except:\n",
    "    print(\"Error detected. Recheck your function  \" )"
   ]
  },
  {
   "cell_type": "code",
   "execution_count": null,
   "metadata": {},
   "outputs": [],
   "source": [
    "print(ʺРозв’язуємо рівняння ax = bʺ)\n",
    "# Початок try-блоку (основний код)\n",
    "try:\n",
    " # Визначаємо перший параметр. Можлива помилка\n",
    " # перетворення тексту в число\n",
    "\n",
    "a=float(input(ʺУведіть a: ʺ))\n",
    " # Визначаємо другий параметр. Можлива помилка\n",
    " # перетворення тексту в число\n",
    " b=float(input(ʺУведіть b: ʺ))\n",
    " # Розв’язок рівняння. Можлива помилка\n",
    " # ділення на нуль\n",
    " x=b/a\n",
    " # Відображається значення для кореня рівняння.\n",
    " # Команда виконується, якщо до цього не виникли\n",
    " # помилки\n",
    " print(ʺРозв’язок рівняння: x =ʺ,x)\n",
    "# Початок except-блоку (допоміжний код)\n",
    "except ValueError:\n",
    " # Команда виконується, якщо користувач\n",
    " # увів некоректне значення\n",
    " print(ʺПотрібно було ввести число!ʺ)\n",
    "except ZeroDivisionError:\n",
    " # Команда виконується під час спроби\n",
    " # ділення на нуль\n",
    " print(ʺУвага! На нуль ділити не можна!ʺ)\n",
    "# Команда виконується після блоку try-except\n",
    "print(ʺДякуємо, роботу програми закінчено.ʺ)"
   ]
  },
  {
   "cell_type": "code",
   "execution_count": 2,
   "metadata": {},
   "outputs": [
    {
     "data": {
      "text/plain": [
       "('Example1.txt', <http.client.HTTPMessage at 0x24ae1c36d90>)"
      ]
     },
     "execution_count": 2,
     "metadata": {},
     "output_type": "execute_result"
    }
   ],
   "source": [
    "# url reading library \n",
    "import urllib.request\n",
    "url = 'https://cf-courses-data.s3.us.cloud-object-storage.appdomain.cloud/IBMDeveloperSkillsNetwork-PY0101EN-SkillsNetwork/labs/Module%204/data/example1.txt'\n",
    "filename = 'Example1.txt'\n",
    "urllib.request.urlretrieve(url, filename)"
   ]
  },
  {
   "cell_type": "code",
   "execution_count": 3,
   "metadata": {},
   "outputs": [
    {
     "name": "stdout",
     "output_type": "stream",
     "text": [
      "This is line 1 \n",
      "This is line 2\n",
      "This is line 3\n"
     ]
    }
   ],
   "source": [
    "#Basic reading of the file using open\n",
    "example1 = \"Example1.txt\"\n",
    "file1 = open(example1, \"r\")\n",
    "FileContent = file1.read()\n",
    "print(FileContent)\n",
    "file1.close()"
   ]
  },
  {
   "cell_type": "code",
   "execution_count": 4,
   "metadata": {},
   "outputs": [
    {
     "name": "stdout",
     "output_type": "stream",
     "text": [
      "This is line 1 \n",
      "This is line 2\n",
      "This is line 3\n"
     ]
    }
   ],
   "source": [
    "# Open file using with. Better way to open files\n",
    "\n",
    "with open(example1, \"r\") as file1:\n",
    "    FileContent = file1.read()\n",
    "    print(FileContent)"
   ]
  },
  {
   "cell_type": "code",
   "execution_count": 5,
   "metadata": {},
   "outputs": [
    {
     "name": "stdout",
     "output_type": "stream",
     "text": [
      "This\n",
      "first line: This is line 1 \n",
      "\n"
     ]
    }
   ],
   "source": [
    "# Read first four characters\n",
    "\n",
    "with open(example1, \"r\") as file1:\n",
    "    print(file1.read(4))\n",
    "\n",
    "    # Read one line\n",
    "\n",
    "with open(example1, \"r\") as file1:\n",
    "    print(\"first line: \" + file1.readline())"
   ]
  },
  {
   "cell_type": "code",
   "execution_count": 6,
   "metadata": {},
   "outputs": [
    {
     "name": "stdout",
     "output_type": "stream",
     "text": [
      "Iteration 0 :  This is line 1 \n",
      "\n",
      "Iteration 1 :  This is line 2\n",
      "\n",
      "Iteration 2 :  This is line 3\n"
     ]
    }
   ],
   "source": [
    "# Iterate through the lines\n",
    "\n",
    "with open(example1,\"r\") as file1:\n",
    "        i = 0;\n",
    "        for line in file1:\n",
    "            print(\"Iteration\", str(i), \": \", line)\n",
    "            i = i + 1"
   ]
  },
  {
   "cell_type": "code",
   "execution_count": 7,
   "metadata": {},
   "outputs": [],
   "source": [
    "# Read all lines and save as a list\n",
    "\n",
    "with open(example1, \"r\") as file1:\n",
    "    FileasList = file1.readlines()"
   ]
  },
  {
   "cell_type": "code",
   "execution_count": null,
   "metadata": {},
   "outputs": [],
   "source": [
    "# Write line to file\n",
    "exmp2 = '/resources/data/Example2.txt'\n",
    "with open(exmp2, 'w') as writefile:\n",
    "    writefile.write(\"This is line A\")"
   ]
  },
  {
   "cell_type": "code",
   "execution_count": null,
   "metadata": {},
   "outputs": [],
   "source": [
    "# Read file\n",
    "\n",
    "with open(exmp2, 'r') as testwritefile:\n",
    "    print(testwritefile.read())"
   ]
  },
  {
   "cell_type": "code",
   "execution_count": null,
   "metadata": {},
   "outputs": [],
   "source": [
    "# Write lines to file\n",
    "\n",
    "with open(exmp2, 'w') as writefile:\n",
    "    writefile.write(\"This is line A\\n\")\n",
    "    writefile.write(\"This is line B\\n\")"
   ]
  },
  {
   "cell_type": "code",
   "execution_count": null,
   "metadata": {},
   "outputs": [],
   "source": [
    "# Write a new line to text file\n",
    "#We can write to files without losing any of the existing data as follows by setting\n",
    "# the mode argument to append: a. you can append a new line as follows:\n",
    "\n",
    "with open('Example2.txt', 'a') as testwritefile:\n",
    "    testwritefile.write(\"This is line C\\n\")\n",
    "    testwritefile.write(\"This is line D\\n\")\n",
    "    testwritefile.write(\"This is line E\\n\")"
   ]
  },
  {
   "cell_type": "code",
   "execution_count": 3,
   "metadata": {},
   "outputs": [],
   "source": [
    "import pandas as pd"
   ]
  },
  {
   "cell_type": "code",
   "execution_count": null,
   "metadata": {},
   "outputs": [],
   "source": [
    "#xlrd is a library to read xls Excel files\n",
    "\n",
    "!pip install xlrd"
   ]
  },
  {
   "cell_type": "code",
   "execution_count": null,
   "metadata": {},
   "outputs": [],
   "source": [
    "# Read data from CSV file\n",
    "\n",
    "csv_path = 'https://cf-courses-data.s3.us.cloud-object-storage.appdomain.cloud/IBMDeveloperSkillsNetwork-PY0101EN-SkillsNetwork/labs/Module%204/data/TopSellingAlbums.csv'\n",
    "df = pd.read_csv(csv_path)"
   ]
  },
  {
   "cell_type": "code",
   "execution_count": null,
   "metadata": {},
   "outputs": [],
   "source": [
    "# Print first five rows of the dataframe\n",
    "\n",
    "df.head()"
   ]
  },
  {
   "cell_type": "code",
   "execution_count": 34,
   "metadata": {},
   "outputs": [
    {
     "ename": "NameError",
     "evalue": "name 'pd' is not defined",
     "output_type": "error",
     "traceback": [
      "\u001b[1;31m---------------------------------------------------------------------------\u001b[0m",
      "\u001b[1;31mNameError\u001b[0m                                 Traceback (most recent call last)",
      "\u001b[1;32m~\\AppData\\Local\\Temp/ipykernel_14172/4022060541.py\u001b[0m in \u001b[0;36m<module>\u001b[1;34m\u001b[0m\n\u001b[0;32m      3\u001b[0m \u001b[0mxlsx_path\u001b[0m \u001b[1;33m=\u001b[0m \u001b[1;34m'https://s3-api.us-geo.objectstorage.softlayer.net/cf-courses-data/CognitiveClass/PY0101EN/Chapter%204/Datasets/TopSellingAlbums.xlsx'\u001b[0m\u001b[1;33m\u001b[0m\u001b[1;33m\u001b[0m\u001b[0m\n\u001b[0;32m      4\u001b[0m \u001b[1;33m\u001b[0m\u001b[0m\n\u001b[1;32m----> 5\u001b[1;33m \u001b[0mdf\u001b[0m \u001b[1;33m=\u001b[0m \u001b[0mpd\u001b[0m\u001b[1;33m.\u001b[0m\u001b[0mread_excel\u001b[0m\u001b[1;33m(\u001b[0m\u001b[0mxlsx_path\u001b[0m\u001b[1;33m)\u001b[0m\u001b[1;33m\u001b[0m\u001b[1;33m\u001b[0m\u001b[0m\n\u001b[0m\u001b[0;32m      6\u001b[0m \u001b[0mdf\u001b[0m\u001b[1;33m.\u001b[0m\u001b[0mhead\u001b[0m\u001b[1;33m(\u001b[0m\u001b[1;33m)\u001b[0m\u001b[1;33m\u001b[0m\u001b[1;33m\u001b[0m\u001b[0m\n\u001b[0;32m      7\u001b[0m \u001b[1;31m# Access to the specific column Length\u001b[0m\u001b[1;33m\u001b[0m\u001b[1;33m\u001b[0m\u001b[0m\n",
      "\u001b[1;31mNameError\u001b[0m: name 'pd' is not defined"
     ]
    }
   ],
   "source": [
    "# Read data from Excel File and print the first five rows\n",
    "\n",
    "xlsx_path = 'https://s3-api.us-geo.objectstorage.softlayer.net/cf-courses-data/CognitiveClass/PY0101EN/Chapter%204/Datasets/TopSellingAlbums.xlsx'\n",
    "\n",
    "df = pd.read_excel(xlsx_path)\n",
    "df.head()\n",
    "# Access to the specific column Length\n",
    "\n",
    "x = df[['Length']]\n",
    "x\n",
    "\n",
    "#You can also get a column as a series. You can think of a Pandas series as a 1-D dataframe. Just use one bracket:\n",
    "x = df['Length']\n",
    "x\n",
    "# Get the column as a dataframe\n",
    "\n",
    "x = df[['Artist']]\n",
    "type(x)\n",
    "\n",
    "# Access to multiple columns\n",
    "\n",
    "y = df[['Artist','Length','Genre']]\n",
    "y"
   ]
  },
  {
   "cell_type": "code",
   "execution_count": null,
   "metadata": {},
   "outputs": [],
   "source": [
    "# Access the value on the first row and the first column with iloc\n",
    "\n",
    "df.iloc[0, 0]\n",
    "\n",
    "# loc functionality \n",
    "df.loc[1, 'Artist']\n",
    "\n",
    "# Slicing the dataframe\n",
    "\n",
    "df.iloc[0:2, 0:3]\n",
    "\n",
    "# Slicing the dataframe using name\n",
    "\n",
    "df.loc[0:2, 'Artist':'Released']"
   ]
  },
  {
   "cell_type": "code",
   "execution_count": null,
   "metadata": {},
   "outputs": [],
   "source": [
    "# replace index by a list\n",
    "new_index=['a','b','c','d','e','f','g','h']\n",
    "df['New_index'] = new_index\n",
    "df_new=df.set_index(\"New_index\")\n",
    "df_new=df_new.drop(\"index\", axis=1)\n",
    "# drop row (delete row in data frame)\n",
    "df_new\n",
    "\n",
    "#better solution\n",
    "df_new=df\n",
    "df_new.index=new_index\n",
    "df_new.loc['a', 'Artist']\n",
    "df_new.loc['a':'d', 'Artist']"
   ]
  },
  {
   "cell_type": "code",
   "execution_count": 1,
   "metadata": {},
   "outputs": [
    {
     "data": {
      "text/plain": [
       "array([-2., -1.,  0.,  1.,  2.])"
      ]
     },
     "execution_count": 1,
     "metadata": {},
     "output_type": "execute_result"
    }
   ],
   "source": [
    "import numpy as np\n",
    "# Makeup a numpy array within [-2, 2] and 5 elements\n",
    "\n",
    "u = np.array([1, 2])\n",
    "\n",
    "np.linspace(-2, 2, num=5)\n",
    "# Create a numpy array\n",
    "\n"
   ]
  },
  {
   "cell_type": "code",
   "execution_count": null,
   "metadata": {},
   "outputs": [],
   "source": [
    "# Plotting functions in numpy\n",
    "\n",
    "def Plotvec1(u, z, v):\n",
    "    \n",
    "    ax = plt.axes()\n",
    "    ax.arrow(0, 0, *u, head_width=0.05, color='r', head_length=0.1)\n",
    "    plt.text(*(u + 0.1), 'u')\n",
    "    \n",
    "    ax.arrow(0, 0, *v, head_width=0.05, color='b', head_length=0.1)\n",
    "    plt.text(*(v + 0.1), 'v')\n",
    "    ax.arrow(0, 0, *z, head_width=0.05, head_length=0.1)\n",
    "    plt.text(*(z + 0.1), 'z')\n",
    "    plt.ylim(-2, 2)\n",
    "    plt.xlim(-2, 2)\n",
    "\n",
    "def Plotvec2(a,b):\n",
    "    ax = plt.axes()\n",
    "    ax.arrow(0, 0, *a, head_width=0.05, color ='r', head_length=0.1)\n",
    "    plt.text(*(a + 0.1), 'a')\n",
    "    ax.arrow(0, 0, *b, head_width=0.05, color ='b', head_length=0.1)\n",
    "    plt.text(*(b + 0.1), 'b')\n",
    "    plt.ylim(-2, 2)\n",
    "    plt.xlim(-2, 2)"
   ]
  },
  {
   "cell_type": "markdown",
   "metadata": {},
   "source": [
    "# https://pypi.org/ python packages instal ... import ...\n",
    "\n",
    "\n"
   ]
  },
  {
   "cell_type": "code",
   "execution_count": 3,
   "metadata": {},
   "outputs": [],
   "source": [
    "import requests"
   ]
  },
  {
   "cell_type": "code",
   "execution_count": 1,
   "metadata": {},
   "outputs": [
    {
     "name": "stdout",
     "output_type": "stream",
     "text": [
      "Convert Python dictionary into JSON formatted String\n",
      "{\"name\": \"Jane Doe\", \"salary\": 9000, \"skills\": [\"Python\", \"Machine Learning\", \"Web Development\"], \"email\": \"jane.doe@pynative.com\"}\n"
     ]
    }
   ],
   "source": [
    "# Convert Python dictionary into a JSON formatted String\n",
    "import json\n",
    "\n",
    "def SendJsonResponse(resultDict):\n",
    "    print(\"Convert Python dictionary into JSON formatted String\")\n",
    "    developer_str = json.dumps(resultDict)\n",
    "    print(developer_str)\n",
    "\n",
    "# sample developer dict\n",
    "developer_Dict = {\n",
    "    \"name\": \"Jane Doe\",\n",
    "    \"salary\": 9000,\n",
    "    \"skills\": [\"Python\", \"Machine Learning\", \"Web Development\"],\n",
    "    \"email\": \"jane.doe@pynative.com\"\n",
    "}\n",
    "SendJsonResponse(developer_Dict)\n"
   ]
  },
  {
   "cell_type": "code",
   "execution_count": 2,
   "metadata": {},
   "outputs": [
    {
     "name": "stdout",
     "output_type": "stream",
     "text": [
      "Started writing JSON data into a file\n",
      "Done writing JSON data into .json file\n"
     ]
    }
   ],
   "source": [
    "import json\n",
    "\n",
    "# assume you have the following dictionary\n",
    "developer = {\n",
    "    \"name\": \"jane doe\",\n",
    "    \"salary\": 9000,\n",
    "    \"email\": \"JaneDoe@pynative.com\"\n",
    "}\n",
    "print(\"Started writing JSON data into a file\")\n",
    "with open(\"developer.json\", \"w\") as write_file:\n",
    "    json.dump(developer, write_file) # encode dict into JSON\n",
    "print(\"Done writing JSON data into .json file\")\n"
   ]
  },
  {
   "cell_type": "code",
   "execution_count": 1,
   "metadata": {},
   "outputs": [
    {
     "ename": "NameError",
     "evalue": "name 'requests' is not defined",
     "output_type": "error",
     "traceback": [
      "\u001b[0;31m---------------------------------------------------------------------------\u001b[0m",
      "\u001b[0;31mNameError\u001b[0m                                 Traceback (most recent call last)",
      "\u001b[1;32m/home/ivolodar18/Downloads/test.ipynb Cell 53\u001b[0m in \u001b[0;36m<cell line: 1>\u001b[0;34m()\u001b[0m\n\u001b[0;32m----> <a href='vscode-notebook-cell:/home/ivolodar18/Downloads/test.ipynb#Y103sZmlsZQ%3D%3D?line=0'>1</a>\u001b[0m help(requests)\n",
      "\u001b[0;31mNameError\u001b[0m: name 'requests' is not defined"
     ]
    }
   ],
   "source": [
    "help(requests)"
   ]
  },
  {
   "cell_type": "code",
   "execution_count": 5,
   "metadata": {},
   "outputs": [
    {
     "data": {
      "text/plain": [
       "200"
      ]
     },
     "execution_count": 5,
     "metadata": {},
     "output_type": "execute_result"
    }
   ],
   "source": [
    "r = requests.get('https://www.python.org')\n",
    "r.status_code"
   ]
  },
  {
   "cell_type": "code",
   "execution_count": 7,
   "metadata": {},
   "outputs": [
    {
     "data": {
      "text/plain": [
       "True"
      ]
     },
     "execution_count": 7,
     "metadata": {},
     "output_type": "execute_result"
    }
   ],
   "source": [
    "b'Python is a programming language' in r.content"
   ]
  },
  {
   "cell_type": "code",
   "execution_count": 8,
   "metadata": {},
   "outputs": [
    {
     "name": "stdout",
     "output_type": "stream",
     "text": [
      "{\n",
      "  \"args\": {}, \n",
      "  \"data\": \"\", \n",
      "  \"files\": {}, \n",
      "  \"form\": {\n",
      "    \"key1\": \"value1\", \n",
      "    \"key2\": \"value2\"\n",
      "  }, \n",
      "  \"headers\": {\n",
      "    \"Accept\": \"*/*\", \n",
      "    \"Accept-Encoding\": \"gzip, deflate\", \n",
      "    \"Content-Length\": \"23\", \n",
      "    \"Content-Type\": \"application/x-www-form-urlencoded\", \n",
      "    \"Host\": \"httpbin.org\", \n",
      "    \"User-Agent\": \"python-requests/2.27.1\", \n",
      "    \"X-Amzn-Trace-Id\": \"Root=1-61d60542-695bb6e94de5c6313865e166\"\n",
      "  }, \n",
      "  \"json\": null, \n",
      "  \"origin\": \"46.118.178.64\", \n",
      "  \"url\": \"https://httpbin.org/post\"\n",
      "}\n",
      "\n"
     ]
    }
   ],
   "source": [
    "payload = dict(key1='value1', key2='value2')\n",
    "r = requests.post('https://httpbin.org/post', data=payload)\n",
    "print(r.text)"
   ]
  },
  {
   "cell_type": "markdown",
   "metadata": {},
   "source": [
    "response = requests.get(\"https://api.open-notify.org/astros.json\")\n",
    "print(response.json())"
   ]
  },
  {
   "cell_type": "markdown",
   "metadata": {},
   "source": [
    "Python has great JSON support with the json package. The json package is part of the standard library, so we don’t have to install anything to use it. We can both convert lists and dictionaries to JSON, and convert strings to lists and dictionaries. In the case of our ISS Pass data, it is a dictionary encoded to a string in JSON format.\n",
    "\n",
    "The json library has two main functions:\n",
    "\n",
    "json.dumps() — Takes in a Python object, and converts (dumps) it to a string.\n",
    "json.loads() — Takes a JSON string, and converts (loads) it to a Python object.\n",
    "The dumps() function is particularly useful as we can use it to print a formatted string which makes it easier to understand the JSON output, like in the diagram we saw above:\n",
    "\n",
    "import json\n",
    "\n",
    "def jprint(obj):\n",
    "    # create a formatted string of the Python JSON object\n",
    "    text = json.dumps(obj, sort_keys=True, indent=4)\n",
    "    print(text)\n",
    "\n",
    "jprint(response.json())\n",
    "{\n",
    "    \"message\": \"success\",\n",
    "    \"number\": 6,\n",
    "    \"people\": [\n",
    "        {\n",
    "            \"craft\": \"ISS\",\n",
    "            \"name\": \"Alexey Ovchinin\"\n",
    "        },\n",
    "        {\n",
    "            \"craft\": \"ISS\",\n",
    "            \"name\": \"Nick Hague\"\n",
    "        },\n",
    "        {\n",
    "            \"craft\": \"ISS\",\n",
    "            \"name\": \"Christina Koch\"\n",
    "        },\n",
    "        {\n",
    "            \"craft\": \"ISS\",\n",
    "            \"name\": \"Alexander Skvortsov\"\n",
    "        },\n",
    "        {\n",
    "            \"craft\": \"ISS\",\n",
    "            \"name\": \"Luca Parmitano\"\n",
    "        },\n",
    "        {\n",
    "            \"craft\": \"ISS\",\n",
    "            \"name\": \"Andrew Morgan\"\n",
    "        }\n",
    "    ]\n",
    "}"
   ]
  },
  {
   "cell_type": "code",
   "execution_count": null,
   "metadata": {},
   "outputs": [],
   "source": [
    "parameters = {\n",
    "    \"lat\": 40.71,\n",
    "    \"lon\": -74\n",
    "}\n",
    "response = requests.get(\"https://api.open-notify.org/iss-pass.json\", params=parameters)\n",
    "\n",
    "jprint(response.json())"
   ]
  },
  {
   "cell_type": "markdown",
   "metadata": {},
   "source": [
    "\n",
    "# https://proglib.io/p/python-i-api-prevoshodnoe-kombo-dlya-avtomatizacii-raboty-s-publichnymi-dannymi-2021-02-26\n",
    "\n",
    "# python API"
   ]
  },
  {
   "cell_type": "code",
   "execution_count": null,
   "metadata": {},
   "outputs": [],
   "source": [
    "#You can load other types of data for non-text requests, like images. Consider the URL of the following image:\n",
    "\n",
    "# Use single quotation marks for defining string\n",
    "url='https://gitlab.com/ibm/skills-network/courses/placeholder101/-/raw/master/labs/module%201/images/IDSNlogo.png'\n",
    "\n",
    "#We can make a get request:\n",
    "r=requests.get(url)\n",
    "#We can see the 'Content-Type'\n",
    "r.headers['Content-Type']\n",
    "#An image is a response object that contains the image as a bytes-like object. As a result, \n",
    "# we must save it using a file object. First, we specify the file path and name\n",
    "path=os.path.join(os.getcwd(),'image.png')\n",
    "path\n",
    "#We save the file, in order to access the body of the response we use the attribute\n",
    "#  content then save it using the open function and write method:\n",
    "with open(path,'wb') as f:\n",
    "    f.write(r.content)\n",
    "#We can view the image:\n",
    "Image.open(path)  \n",
    "# we can transform responce to the get request into json or get arguments from it\n",
    "r.json()\n",
    "r.json()['args']"
   ]
  },
  {
   "cell_type": "markdown",
   "metadata": {},
   "source": [
    "https://docs.python-requests.org/en/master/user/advanced/#http-verbs\n",
    "Guide for web scraping"
   ]
  },
  {
   "cell_type": "code",
   "execution_count": null,
   "metadata": {},
   "outputs": [],
   "source": [
    "# how to webscrape \n",
    "import pandas as pd\n",
    "#The below url contains html tables with data about world population.\n",
    "url = \"https://en.wikipedia.org/wiki/World_population\"\n",
    "# get the contents of the webpage in text format and store in a variable called data\n",
    "data  = requests.get(url).text\n",
    "soup = BeautifulSoup(data,\"html.parser\")\n",
    "#find all html tables in the web page\n",
    "tables = soup.find_all('table') # in html table is represented by the tag <table>\n",
    "for index,table in enumerate(tables):\n",
    "    if (\"10 most densely populated countries\" in str(table)):\n",
    "        table_index = index\n",
    "print(table_index)\n",
    "#See if you can locate the table name of the table, 10 most densly populated countries, below.\n",
    "print(tables[table_index].prettify())\n",
    "\n",
    "# more here https://labs.cognitiveclass.ai/tools/jupyterlab/lab/tree/labs/PY0101EN/WebScraping_Review_Lab.ipynb?lti=true"
   ]
  },
  {
   "cell_type": "code",
   "execution_count": null,
   "metadata": {},
   "outputs": [],
   "source": [
    "# how to read csv file and interact with it\n",
    "import pandas as pd\n",
    "url ='https://cf-courses-data.s3.us.cloud-object-storage.appdomain.cloud/IBMDeveloperSkillsNetwork-PY0101EN-SkillsNetwork/labs/Module%205/data/addresses.csv'\n",
    "df = pd.read_csv(url)\n",
    "#We can add columns to an existing DataFrame using its columns attribute.\n",
    "df.columns =['First Name', 'Last Name', 'Location ', 'City','State','Area Code']\n",
    "#To select the first column 'First Name', you can pass the column name as a string to the indexing operator.\n",
    "df[\"First Name\"]\n",
    "#To select multiple columns, you can pass a list of column names to the indexing operator.\n",
    "df = df[['First Name', 'Last Name', 'Location ', 'City','State','Area Code']]\n",
    "# To select the first row\n",
    "df.loc[0]\n",
    "# To select the 0th,1st and 2nd row of \"First Name\" column only\n",
    "df.loc[[0,1,2], \"First Name\" ]\n",
    "# To select the 0th,1st and 2nd row of \"First Name\" column only\n",
    "df.iloc[[0,1,2], 0]\n",
    "\n",
    "\n"
   ]
  },
  {
   "cell_type": "code",
   "execution_count": null,
   "metadata": {},
   "outputs": [],
   "source": [
    "#Transform Function in Pandas\n",
    "#Python’s Transform function returns a self-produced \n",
    "# dataframe with transformed values after applying the function specified in its parameter.\n",
    "#Let's see how Transform function works.\n",
    "\n",
    "import library\n",
    "import pandas as pd\n",
    "import numpy as np\n",
    "\n",
    "#creating a dataframe\n",
    "df=pd.DataFrame(np.array([[1, 2, 3], [4, 5, 6], [7, 8, 9]]), columns=['a', 'b', 'c'])\n",
    "df\n",
    "#Now we will use DataFrame.transform() function to find the square root to each element of the dataframe\n",
    "result = df.transform(func = ['sqrt'])\n"
   ]
  },
  {
   "cell_type": "code",
   "execution_count": null,
   "metadata": {},
   "outputs": [],
   "source": [
    "#Python supports JSON through a built-in package called json. To use this feature, we import the json package in Python script.\n",
    "import json\n",
    "#Writing JSON to a File\n",
    "#To handle the data flow in a file, the JSON library in Python uses the dump() \n",
    "# or dumps() function to convert the Python objects into their respective JSON object. This makes it easy to write data to files.\n",
    "import json\n",
    "person = {\n",
    "    'first_name' : 'Mark',\n",
    "    'last_name' : 'abc',\n",
    "    'age' : 27,\n",
    "    'address': {\n",
    "        \"streetAddress\": \"21 2nd Street\",\n",
    "        \"city\": \"New York\",\n",
    "        \"state\": \"NY\",\n",
    "        \"postalCode\": \"10021-3100\"\n",
    "    }\n",
    "}\n",
    "#json.dump() method can be used for writing to JSON file.\n",
    "with open('person.json', 'w') as f:  # writing JSON object\n",
    "    json.dump(person, f)\n",
    "\n",
    "#json.dumps() that helps in converting a dictionary to a JSON object\n",
    "\n",
    "# Serializing json  \n",
    "json_object = json.dumps(person, indent = 4) \n",
    "  \n",
    "# Writing to sample.json \n",
    "with open(\"sample.json\", \"w\") as outfile: \n",
    "    outfile.write(json_object)"
   ]
  },
  {
   "cell_type": "code",
   "execution_count": null,
   "metadata": {},
   "outputs": [],
   "source": [
    "#Reading JSON to a File\n",
    "#This process is usually called Deserialization - it is the reverse of serialization. \n",
    "# It converts the special format returned by the serialization back into a usable object.\n",
    "\n",
    "#The JSON package has json.load() function that loads the json content from a json file into a dictionary.\n",
    "import json \n",
    "  \n",
    "# Opening JSON file \n",
    "with open('sample.json', 'r') as openfile: \n",
    "  \n",
    "    # Reading from json file \n",
    "    json_object = json.load(openfile) \n",
    "  \n",
    "print(json_object) \n",
    "print(type(json_object)) "
   ]
  },
  {
   "cell_type": "code",
   "execution_count": null,
   "metadata": {},
   "outputs": [],
   "source": [
    "#Reading the data from XLSX file\n",
    "import pandas as pd\n",
    "import urllib.request\n",
    "\n",
    "urllib.request.urlretrieve(\"https://cf-courses-data.s3.us.cloud-object-storage.appdomain.cloud/IBMDeveloperSkillsNetwork-PY0101EN-SkillsNetwork/labs/Module%205/data/file_example_XLSX_10.xlsx\", \"sample.xlsx\")\n",
    "df = pd.read_excel(\"sample.xlsx\")"
   ]
  },
  {
   "cell_type": "code",
   "execution_count": null,
   "metadata": {},
   "outputs": [],
   "source": [
    "#Read XML file \n",
    "#The xml.etree.ElementTree module comes built-in with Python. It provides functionality for parsing and creating XML documents.\n",
    "import xml.etree.ElementTree as ET\n",
    "\n",
    "# create the file structure\n",
    "employee = ET.Element('employee')\n",
    "details = ET.SubElement(employee, 'details')\n",
    "first = ET.SubElement(details, 'firstname')\n",
    "second = ET.SubElement(details, 'lastname')\n",
    "third = ET.SubElement(details, 'age')\n",
    "first.text = 'Shiv'\n",
    "second.text = 'Mishra'\n",
    "third.text = '23'\n",
    "\n",
    "# create a new XML file with the results\n",
    "mydata1 = ET.ElementTree(employee)\n",
    "# myfile = open(\"items2.xml\", \"wb\")\n",
    "# myfile.write(mydata)\n",
    "with open(\"new_sample.xml\", \"wb\") as files:\n",
    "    mydata1.write(files)\n",
    "\n",
    "import pandas as pd \n",
    "\n",
    "import xml.etree.ElementTree as etree\n",
    "\n",
    "!wget https://cf-courses-data.s3.us.cloud-object-storage.appdomain.cloud/IBMDeveloperSkillsNetwork-PY0101EN-SkillsNetwork/labs/Module%205/data/Sample-employee-XML-file.xml\n",
    "\n",
    "tree = etree.parse(\"Sample-employee-XML-file.xml\")\n",
    "\n",
    "root = tree.getroot()\n",
    "columns = [\"firstname\", \"lastname\", \"title\", \"division\", \"building\",\"room\"]\n",
    "\n",
    "datatframe = pd.DataFrame(columns = columns)\n",
    "\n",
    "for node in root: \n",
    "\n",
    "    firstname = node.find(\"firstname\").text\n",
    "\n",
    "    lastname = node.find(\"lastname\").text \n",
    "\n",
    "    title = node.find(\"title\").text \n",
    "    \n",
    "    division = node.find(\"division\").text \n",
    "    \n",
    "    building = node.find(\"building\").text\n",
    "    \n",
    "    room = node.find(\"room\").text\n",
    "    \n",
    "    datatframe = datatframe.append(pd.Series([firstname, lastname, title, division, building, room], index = columns), ignore_index = True)\n",
    "\n",
    "datatframe"
   ]
  },
  {
   "cell_type": "code",
   "execution_count": null,
   "metadata": {},
   "outputs": [],
   "source": [
    "#Save Data\n",
    "\n",
    "datatframe.to_csv(\"employee.csv\", index=False)\n",
    "#Data Formate\tRead\tSave\n",
    "#csv\tpd.read_csv()\tdf.to_csv()\n",
    "#json\tpd.read_json()\tdf.to_json()\n",
    "#excel\tpd.read_excel()\tdf.to_excel()\n",
    "#hdf\tpd.read_hdf()\tdf.to_hdf()\n",
    "#sql\tpd.read_sql()\tdf.to_sql()"
   ]
  },
  {
   "cell_type": "code",
   "execution_count": null,
   "metadata": {},
   "outputs": [],
   "source": [
    "#Reading the Image file\n",
    "# importing PIL \n",
    "from PIL import Image \n",
    "\n",
    "import urllib.request\n",
    "# Downloading dataset\n",
    "urllib.request.urlretrieve(\"https://hips.hearstapps.com/hmg-prod.s3.amazonaws.com/images/dog-puppy-on-garden-royalty-free-image-1586966191.jpg\", \"dog.jpg\")\n",
    "# Read image \n",
    "img = Image.open('dog.jpg') \n",
    "  \n",
    "# Output Images \n",
    "display(img)"
   ]
  }
 ],
 "metadata": {
  "kernelspec": {
   "display_name": "Python 3.9.9 64-bit",
   "language": "python",
   "name": "python3"
  },
  "language_info": {
   "codemirror_mode": {
    "name": "ipython",
    "version": 3
   },
   "file_extension": ".py",
   "mimetype": "text/x-python",
   "name": "python",
   "nbconvert_exporter": "python",
   "pygments_lexer": "ipython3",
   "version": "3.9.9"
  },
  "orig_nbformat": 4,
  "vscode": {
   "interpreter": {
    "hash": "e7370f93d1d0cde622a1f8e1c04877d8463912d04d973331ad4851f04de6915a"
   }
  }
 },
 "nbformat": 4,
 "nbformat_minor": 2
}
