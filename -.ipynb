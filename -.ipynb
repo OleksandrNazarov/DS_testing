{
    "cells": [
        {
            "cell_type": "code",
            "execution_count": 1,
            "metadata": {},
            "outputs": [
                {
                    "ename": "Error parsing magics!",
                    "evalue": "Magics [matplotlib] do not exist!",
                    "output_type": "error",
                    "traceback": []
                }
            ],
            "source": "import pandas as pd\nimport numpy as np\nimport seaborn as sns                       #visualisation\nimport matplotlib.pyplot as plt             #visualisation\n%matplotlib inline     \nsns.set(color_codes=True)\n"
        },
        {
            "cell_type": "code",
            "execution_count": null,
            "metadata": {},
            "outputs": [],
            "source": ""
        }
    ],
    "metadata": {
        "kernelspec": {
            "display_name": "Scala 2.12 with Spark",
            "language": "scala",
            "name": "scala"
        },
        "language_info": {
            "codemirror_mode": "text/x-scala",
            "file_extension": ".scala",
            "mimetype": "text/x-scala",
            "name": "scala",
            "pygments_lexer": "scala",
            "version": "2.12.12"
        }
    },
    "nbformat": 4,
    "nbformat_minor": 1
}